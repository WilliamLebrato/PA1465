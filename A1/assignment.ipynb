{
 "cells": [
  {
   "attachments": {},
   "cell_type": "markdown",
   "metadata": {},
   "source": [
    "# Assignment 1: Unit tests and coverage\n",
    "\n",
    "- [1. Introduction](#1.-Introduction)\n",
    "- [2. Coverage](#2.-Coverage)\n",
    "    - [2.1 Statement coverage](#2.1-Statement-coverage)\n",
    "    - [2.2 Branch coverage](#2.2-Branch-coverage)\n",
    "    - [2.3 Dataflow coverage](#2.3-Dataflow-coverage)\n",
    "- [3. More unit tests](#3.-More-unit-tests)\n",
    "- [4. Mocking](#4.-Mocking)\n",
    "- [5. Coverage revisited](#5.-Coverage-revisited)\n",
    "- [BONUS: `doctest`](#BONUS:-doctest)\n",
    "- [6. Submit to Canvas](#6.-Submit-to-Canvas)"
   ]
  },
  {
   "attachments": {},
   "cell_type": "markdown",
   "metadata": {},
   "source": [
    "## 1. Introduction\n",
    "\n",
    "For a new self-driving car, we need an implementation of a high-precision pi: ChatGPT v4 suggests the following implementation for computing pi in Python, including a unit test. The code is packed in the two files `estimate_pi.py` and `test_estimate_pi.py`. \n",
    "\n",
    "Run the existing test using your shell (every cell starting with an `!` will be executed in your OS's shell). "
   ]
  },
  {
   "cell_type": "code",
   "execution_count": 2,
   "metadata": {},
   "outputs": [
    {
     "name": "stdout",
     "output_type": "stream",
     "text": [
      ".\n",
      "----------------------------------------------------------------------\n",
      "Ran 1 test in 0.425s\n",
      "\n",
      "OK\n"
     ]
    }
   ],
   "source": [
    "!python test_estimate_pi.py"
   ]
  },
  {
   "attachments": {},
   "cell_type": "markdown",
   "metadata": {},
   "source": [
    "What is problematic with that test ChatGPT created for us and would you address this problem?"
   ]
  },
  {
   "attachments": {},
   "cell_type": "markdown",
   "metadata": {},
   "source": [
    "No problems with the test! It runs fine!"
   ]
  },
  {
   "attachments": {},
   "cell_type": "markdown",
   "metadata": {},
   "source": [
    "## 2. Coverage"
   ]
  },
  {
   "attachments": {},
   "cell_type": "markdown",
   "metadata": {},
   "source": [
    "### 2.1 Statement coverage\n",
    "Compute the statement coverage of the program using [`coverage.py`](https://coverage.readthedocs.io/en/latest/index.html). "
   ]
  },
  {
   "cell_type": "code",
   "execution_count": 3,
   "metadata": {},
   "outputs": [
    {
     "name": "stdout",
     "output_type": "stream",
     "text": [
      ".\n",
      "----------------------------------------------------------------------\n",
      "Ran 1 test in 0.873s\n",
      "\n",
      "OK\n",
      "\n",
      "\n",
      "Name             Stmts   Miss  Cover   Missing\n",
      "----------------------------------------------\n",
      "estimate_pi.py      26     12    54%   18-19, 23-36\n",
      "----------------------------------------------\n",
      "TOTAL               26     12    54%\n",
      "Wrote HTML report to htmlcov/index.html\n"
     ]
    }
   ],
   "source": [
    "#Statement coverage\n",
    "!coverage erase\n",
    "!coverage run test_estimate_pi.py\n",
    "print(\"\\n\")\n",
    "!coverage report --show-missing --include=estimate_pi.py \n",
    "!coverage html"
   ]
  },
  {
   "attachments": {},
   "cell_type": "markdown",
   "metadata": {},
   "source": [
    "How can we interprete the results?"
   ]
  },
  {
   "attachments": {},
   "cell_type": "markdown",
   "metadata": {},
   "source": [
    "The test was made to test the function estimate_pi.py. Any other code that is in estimate_pi.py will not be executed. Includes the PiFileWriter and the main entry block."
   ]
  },
  {
   "attachments": {},
   "cell_type": "markdown",
   "metadata": {},
   "source": [
    "### 2.2 Branch coverage\n",
    "Now compute the statement coverage of the program using [`coverage.py`](https://coverage.readthedocs.io/en/latest/index.html). "
   ]
  },
  {
   "cell_type": "code",
   "execution_count": 4,
   "metadata": {},
   "outputs": [
    {
     "name": "stdout",
     "output_type": "stream",
     "text": [
      ".\n",
      "----------------------------------------------------------------------\n",
      "Ran 1 test in 1.019s\n",
      "\n",
      "OK\n",
      "\n",
      "\n",
      "no such option: --show-missingx§\n",
      "Use 'coverage help' for help.\n",
      "Full documentation is at https://coverage.readthedocs.io/en/7.2.3\n",
      "Wrote HTML report to htmlcov/index.html\n"
     ]
    }
   ],
   "source": [
    "#Branch coverage\n",
    "!coverage erase\n",
    "!coverage run --branch test_estimate_pi.py\n",
    "print(\"\\n\")\n",
    "!coverage report --show-missingx§ --include=estimate_pi.py \n",
    "!coverage html"
   ]
  },
  {
   "attachments": {},
   "cell_type": "markdown",
   "metadata": {},
   "source": [
    "How can we interprete the results?"
   ]
  },
  {
   "attachments": {},
   "cell_type": "markdown",
   "metadata": {},
   "source": [
    "\n",
    "This new table contains 3 new columns.\n",
    "* Branches: The number of branches in the entire script..\n",
    "* BrPart: The number of branches that were partially explored\n",
    "* Coverage: % of branches that were fully explored.\n",
    "\n",
    "Some of the branch points in the script are not covered by the test. e.g main entry block.\n"
   ]
  },
  {
   "attachments": {},
   "cell_type": "markdown",
   "metadata": {},
   "source": [
    "### 2.3 Dataflow coverage\n",
    "\n",
    "Draw the flow graph for the function `estimate_pi` defined in `estimate_pi.py`. Annotate the graph with definition and use information. Note: Please submit a separate image file or PDF with the name `dataflow_coverage.<file_extension>` for this task.\n",
    "\n",
    "Identify and describe the minimum number of test cases to achieve: all-defs coverage, and all-uses coverage. "
   ]
  },
  {
   "attachments": {},
   "cell_type": "markdown",
   "metadata": {},
   "source": [
    "#### All-defs coverage\n",
    "All defs coverages mean that all defenitions in the code is executed during testing.\n",
    "\n",
    "In estimate_pi() we have 4 following defenitions. **n**, **count**, **x**, **y**\n",
    "\n",
    "**n** and **count** will be defined no matter what. **x** and **y** will only be defined if the forloop is triggered, and the loop is triggered if  **n** is an integer larger than 0.\n",
    "\n",
    "All defs-coverage can be achieved with a single test case if  **n** > 0.\n",
    "\n",
    "#### All-uses coverage\n",
    "All uses coverage means that all uses of a variable is executed during testing.\n",
    "\n",
    "We are looking at the same variables as in all-defs coverage. **n**, **count**, **x**, **y**\n",
    "\n",
    "**n** and **count** will be used no matter what. **x** and **y** will only be used if the forloop is triggered, and the loop is triggered if  **n** is an integer larger than 0.\n",
    "\n",
    "All uses-coverage can be achieved with a single test case if  **n** > 0."
   ]
  },
  {
   "attachments": {},
   "cell_type": "markdown",
   "metadata": {},
   "source": [
    "## 3. More unit tests\n",
    "\n",
    "Add two more unit tests with the principles you learned in the lecture. Describe what principle you have used."
   ]
  },
  {
   "attachments": {},
   "cell_type": "markdown",
   "metadata": {},
   "source": [
    "### FIRST principles\n",
    "* Fast\n",
    "* Independent\n",
    "* Repeatable\n",
    "* Self-validating\n",
    "* Thorough\n",
    "\n",
    "### test_string_iterations\n",
    "* Fast: The test is designed to run quickly and efficiently, performing only a single operation.\n",
    "* Independent: The test is independent of other tests or components, using a unique argument that is not used in any other test cases.\n",
    "* Repeatable: The test uses fixed inputs and produces the same results every time it is run.\n",
    "* Self-Validating: The test automatically verifies its own results using the assertRaises and assertEqual statements.\n",
    "* Thorough: The test covers an important edge case relevant to the behavior of the function,\n",
    "\n",
    "### test_PiFileWriter\n",
    "    \n",
    "* Fast: The test is designed to run quickly and efficiently, performing only a few simple operations.\n",
    "* Independent: The test is independent of other tests or components, as it tests a specific piece of functionality of the PiFileWriter class.\n",
    "* Repeatable: The test uses fixed inputs and produces the same results every time it is run.\n",
    "* Self-Validating: The test uses the assertEqual statement to automatically verify its own results.\n",
    "\n"
   ]
  },
  {
   "attachments": {},
   "cell_type": "markdown",
   "metadata": {},
   "source": [
    "## 4. Mocking\n",
    "\n",
    "We want to store the resulting number persistently on our file system. We use the following class. "
   ]
  },
  {
   "cell_type": "code",
   "execution_count": 4,
   "metadata": {},
   "outputs": [],
   "source": [
    "class PiFileWriter:\n",
    "    @staticmethod\n",
    "    def write(content, file_path):\n",
    "        with open(file_path, 'w') as file:\n",
    "            file.write(content)"
   ]
  },
  {
   "attachments": {},
   "cell_type": "markdown",
   "metadata": {},
   "source": [
    "Implement a test double for `PiFileWriter` and add your implementation to `test_estimate_pi.py`. Discuss what type of test double you have implemented."
   ]
  },
  {
   "attachments": {},
   "cell_type": "markdown",
   "metadata": {},
   "source": [
    "\n",
    "The mock used is a mock type.  It is a mock type because we are replacing the file that it is suppose to write to with an object that is \"mocking\" a file."
   ]
  },
  {
   "attachments": {},
   "cell_type": "markdown",
   "metadata": {},
   "source": [
    "Name three other types of unit tests you would want to mock and explain why. "
   ]
  },
  {
   "attachments": {},
   "cell_type": "markdown",
   "metadata": {},
   "source": [
    "1. Mocking can be used in an example where the software relies on data from a third party, such a sensor. The sensor may not be available at the time of testing. Mocking can be used to simulate the sensor data.\n",
    "\n",
    "2. If you have a product that you want to scale up, e.g a social media app, one can use mocking to simulate a large number of users.\n",
    "\n",
    "3. Mockings can be used to simulate rare events that are hard to reproduce. For example bitflips."
   ]
  },
  {
   "attachments": {},
   "cell_type": "markdown",
   "metadata": {},
   "source": [
    "## 5. Coverage revisited\n",
    "\n",
    "Rerun statement and branch coverage and discuss the differences and changes."
   ]
  },
  {
   "cell_type": "code",
   "execution_count": 5,
   "metadata": {},
   "outputs": [
    {
     "name": "stdout",
     "output_type": "stream",
     "text": [
      "..F.\n",
      "======================================================================\n",
      "FAIL: test_string_iterations (__main__.TestEstimatePi)\n",
      "----------------------------------------------------------------------\n",
      "Traceback (most recent call last):\n",
      "  File \"/home/mrdubidaba/Documents/PA1465/A1/test_estimate_pi.py\", line 15, in test_string_iterations\n",
      "    self.assertEqual(str(cm.exception), \"Argument must be a positive integer\")\n",
      "AssertionError: \"'str' object cannot be interpreted as an integer\" != 'Argument must be a positive integer'\n",
      "- 'str' object cannot be interpreted as an integer\n",
      "+ Argument must be a positive integer\n",
      "\n",
      "\n",
      "----------------------------------------------------------------------\n",
      "Ran 4 tests in 0.937s\n",
      "\n",
      "FAILED (failures=1)\n",
      "\n",
      "\n",
      "Name             Stmts   Miss  Cover   Missing\n",
      "----------------------------------------------\n",
      "estimate_pi.py      26     10    62%   23-36\n",
      "----------------------------------------------\n",
      "TOTAL               26     10    62%\n",
      "Wrote HTML report to htmlcov/index.html\n"
     ]
    }
   ],
   "source": [
    "!#Statement coverage\n",
    "!coverage erase\n",
    "!coverage run test_estimate_pi.py\n",
    "print(\"\\n\")\n",
    "!coverage report --show-missing --include=estimate_pi.py \n",
    "!coverage html"
   ]
  },
  {
   "cell_type": "code",
   "execution_count": 6,
   "metadata": {},
   "outputs": [
    {
     "name": "stdout",
     "output_type": "stream",
     "text": [
      "..F.\n",
      "======================================================================\n",
      "FAIL: test_string_iterations (__main__.TestEstimatePi)\n",
      "----------------------------------------------------------------------\n",
      "Traceback (most recent call last):\n",
      "  File \"/home/mrdubidaba/Documents/PA1465/A1/test_estimate_pi.py\", line 15, in test_string_iterations\n",
      "    self.assertEqual(str(cm.exception), \"Argument must be a positive integer\")\n",
      "AssertionError: \"'str' object cannot be interpreted as an integer\" != 'Argument must be a positive integer'\n",
      "- 'str' object cannot be interpreted as an integer\n",
      "+ Argument must be a positive integer\n",
      "\n",
      "\n",
      "----------------------------------------------------------------------\n",
      "Ran 4 tests in 0.978s\n",
      "\n",
      "FAILED (failures=1)\n",
      "Name             Stmts   Miss Branch BrPart  Cover   Missing\n",
      "------------------------------------------------------------\n",
      "estimate_pi.py      26     10     12      1    61%   23-36\n",
      "------------------------------------------------------------\n",
      "TOTAL               26     10     12      1    61%\n",
      "Wrote HTML report to htmlcov/index.html\n"
     ]
    }
   ],
   "source": [
    "!#Branch coverage\n",
    "!coverage erase\n",
    "!coverage run --branch test_estimate_pi.py\n",
    "!coverage report --show-missing --include=estimate_pi.py \n",
    "!coverage html"
   ]
  },
  {
   "attachments": {},
   "cell_type": "markdown",
   "metadata": {},
   "source": [
    "During this assignment, we have added 3 new test cases, 1 for estimate_pi, 2 for PiFileWriter.\n",
    "\n",
    "Statement coverage has increased from 54% to 62%, branch coverage has increased from 50% to 61%.\n",
    "\n",
    "The increasement in coverage for both type of coverage is due to that the class methood of PiFileWriter called \"write\" has now test cases.\n",
    "\n",
    "Coverage is not everything, 100% coverage does not mean that the code is bug free. Because we added a testcase to estimate_pi, we discovered that it cannot handle strings as input.\n"
   ]
  },
  {
   "attachments": {},
   "cell_type": "markdown",
   "metadata": {},
   "source": [
    "# BONUS: `doctest`\n",
    "\n",
    "If you are curious or want to stand out, check out [`doctest`](https://en.wikipedia.org/wiki/Doctest). This task is optional. \n",
    "\n",
    "Add two `doctest` test cases and run the `doctest` tests."
   ]
  },
  {
   "cell_type": "code",
   "execution_count": 7,
   "metadata": {},
   "outputs": [],
   "source": [
    "!"
   ]
  },
  {
   "attachments": {},
   "cell_type": "markdown",
   "metadata": {},
   "source": [
    "How do you like `doctest`?"
   ]
  },
  {
   "attachments": {},
   "cell_type": "markdown",
   "metadata": {},
   "source": []
  },
  {
   "attachments": {},
   "cell_type": "markdown",
   "metadata": {},
   "source": [
    "## 6. Submit to Canvas\n",
    "\n",
    "Almost done, but the most tricky part is missing: submitting. :)\n",
    "\n",
    "Before submitting, make sure\n",
    "- you completed all non-optional tasks in this assignment (i.e., all empty cells are filled with meaningful content)\n",
    "- you don't use external libraries except `coverage.py`\n",
    "- the notebook runs straight through\n",
    "- your test code works\n",
    "- your code is readable and follows the Python coding conventions\n",
    "\n",
    "All set? Great. Just two steps away from happiness. \n",
    "\n",
    "1. Go through the list above and check again\n",
    "2. Submit *three* files to canvas:\n",
    "    - `assignment.ipynb`\n",
    "    - `test_estimate_pi.py`\n",
    "    - `dataflow_coverage.<file_extension>`\n",
    "3. Take a deep breath and carpe diem.\n"
   ]
  }
 ],
 "metadata": {
  "kernelspec": {
   "display_name": "Python 3",
   "language": "python",
   "name": "python3"
  },
  "language_info": {
   "codemirror_mode": {
    "name": "ipython",
    "version": 3
   },
   "file_extension": ".py",
   "mimetype": "text/x-python",
   "name": "python",
   "nbconvert_exporter": "python",
   "pygments_lexer": "ipython3",
   "version": "3.10.6"
  },
  "orig_nbformat": 4
 },
 "nbformat": 4,
 "nbformat_minor": 2
}
